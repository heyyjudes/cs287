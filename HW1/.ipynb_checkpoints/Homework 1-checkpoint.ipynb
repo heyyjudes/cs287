{
 "cells": [
  {
   "cell_type": "markdown",
   "metadata": {},
   "source": [
    "# HW 1 Classification"
   ]
  },
  {
   "cell_type": "markdown",
   "metadata": {},
   "source": [
    "In this homework you will be building several varieties of text classifiers.\n",
    "\n",
    "## Goal\n",
    "\n",
    "We ask that you construct the following models in PyTorch:\n",
    "\n",
    "1. A naive Bayes unigram classifer (follow Wang and Manning http://www.aclweb.org/anthology/P/P12/P12-2.pdf#page=118: you should only implement Naive Bayes, not the combined classifer with SVM).\n",
    "2. A logistic regression model over word types (you can implement this as $y = \\sigma(\\sum_i W x_i + b)$) \n",
    "3. A continuous bag-of-word neural network with embeddings (similar to CBOW in Mikolov et al https://arxiv.org/pdf/1301.3781.pdf).\n",
    "4. A simple convolutional neural network (any variant of CNN as described in Kim http://aclweb.org/anthology/D/D14/D14-1181.pdf).\n",
    "5. Your own extensions to these models...\n",
    "\n",
    "Consult the papers provided for hyperparameters. \n"
   ]
  },
  {
   "cell_type": "markdown",
   "metadata": {},
   "source": [
    "## Setup\n",
    "\n",
    "This notebook provides a working definition of the setup of the problem itself. You may construct your models inline or use an external setup (preferred) to build your system."
   ]
  },
  {
   "cell_type": "code",
   "execution_count": null,
   "metadata": {
    "collapsed": true
   },
   "outputs": [],
   "source": [
    "%pip install torchtext"
   ]
  },
  {
   "cell_type": "code",
   "execution_count": null,
   "metadata": {},
   "outputs": [],
   "source": [
    "# Text text processing library and methods for pretrained word embeddings\n",
    "import torch \n",
    "import torchtext\n",
    "from torchtext.vocab import Vectors, GloVe\n",
    "import torch.nn as nn "
   ]
  },
  {
   "cell_type": "markdown",
   "metadata": {},
   "source": [
    "The dataset we will use of this problem is known as the Stanford Sentiment Treebank (https://nlp.stanford.edu/~socherr/EMNLP2013_RNTN.pdf). It is a variant of a standard sentiment classification task. For simplicity, we will use the most basic form. Classifying a sentence as positive or negative in sentiment. "
   ]
  },
  {
   "cell_type": "markdown",
   "metadata": {},
   "source": [
    "To start, `torchtext` requires that we define a mapping from the raw text data to featurized indices. These fields make it easy to map back and forth between readable data and math, which helps for debugging."
   ]
  },
  {
   "cell_type": "code",
   "execution_count": null,
   "metadata": {
    "collapsed": true
   },
   "outputs": [],
   "source": [
    "# Our input $x$\n",
    "TEXT = torchtext.data.Field(fix_length=56)\n",
    "#TEXT = torchtext.data.Field() \n",
    "# Our labels $y$\n",
    "LABEL = torchtext.data.Field(sequential=False)"
   ]
  },
  {
   "cell_type": "markdown",
   "metadata": {},
   "source": [
    "Next we input our data. Here we will use the standard SST train split, and tell it the fields."
   ]
  },
  {
   "cell_type": "code",
   "execution_count": null,
   "metadata": {},
   "outputs": [],
   "source": [
    "train, val, test = torchtext.datasets.SST.splits(\n",
    "    TEXT, LABEL,\n",
    "    filter_pred=lambda ex: ex.label != 'neutral')"
   ]
  },
  {
   "cell_type": "markdown",
   "metadata": {},
   "source": [
    "Let's look at this data. It's still in its original form, we can see that each example consists of a label and the original words."
   ]
  },
  {
   "cell_type": "code",
   "execution_count": null,
   "metadata": {},
   "outputs": [],
   "source": [
    "print('len(train)', len(train))\n",
    "print('vars(train[0])', vars(train[0]))"
   ]
  },
  {
   "cell_type": "markdown",
   "metadata": {},
   "source": [
    "In order to map this data to features, we need to assign an index to each word an label. The function build vocab allows us to do this and provides useful options that we will need in future assignments."
   ]
  },
  {
   "cell_type": "code",
   "execution_count": null,
   "metadata": {},
   "outputs": [],
   "source": [
    "TEXT.build_vocab(train)\n",
    "LABEL.build_vocab(train)\n",
    "#this is just the set of stuff \n",
    "print('len(TEXT.vocab)', len(TEXT.vocab))\n",
    "print('len(LABEL.vocab)', len(LABEL.vocab))"
   ]
  },
  {
   "cell_type": "markdown",
   "metadata": {},
   "source": [
    "Finally we are ready to create batches of our training data that can be used for training and validating the model. This function produces 3 iterators that will let us go through the train, val and test data. "
   ]
  },
  {
   "cell_type": "code",
   "execution_count": null,
   "metadata": {},
   "outputs": [],
   "source": [
    "print(len(val))\n",
    "print(len(test))\n",
    "print(len(train))\n",
    "train_iter, val_iter, test_iter = torchtext.data.BucketIterator.splits(\n",
    "    (train, val, test), batch_size=10, device=-1, repeat=False)"
   ]
  },
  {
   "cell_type": "markdown",
   "metadata": {},
   "source": [
    "Let's look at a single batch from one of these iterators. The library automatically converts the underlying words into indices. It then produces tensors for batches of x and y. In this case it will consist of the number of words of the longest sentence (with padding) followed by the number of batches. We can use the vocabulary dictionary to convert back from these indices to words."
   ]
  },
  {
   "cell_type": "code",
   "execution_count": null,
   "metadata": {
    "scrolled": true
   },
   "outputs": [],
   "source": [
    "batch = next(iter(train_iter))\n",
    "print(\"Size of text batch [max sent length, batch size]\", batch.text.size())\n",
    "print(batch.text[:, 0].data)\n",
    "print(\"Converted back to string: \", \" \".join([TEXT.vocab.itos[i] for i in batch.text[:, 0].data]))"
   ]
  },
  {
   "cell_type": "code",
   "execution_count": null,
   "metadata": {},
   "outputs": [],
   "source": [
    "count = 0 \n",
    "for batch in train_iter: \n",
    "    count += 1 \n",
    "print(count)"
   ]
  },
  {
   "cell_type": "markdown",
   "metadata": {},
   "source": [
    "Similarly it produces a vector for each of the labels in the batch. "
   ]
  },
  {
   "cell_type": "code",
   "execution_count": null,
   "metadata": {},
   "outputs": [],
   "source": [
    "print(\"Size of label batch [batch size]\", batch.label.size())\n",
    "print(\"Second in batch\", batch.label[0])\n",
    "print(\"Converted back to string: \", LABEL.vocab.itos[batch.label.data[0]])"
   ]
  },
  {
   "cell_type": "markdown",
   "metadata": {},
   "source": [
    "Finally the Vocab object can be used to map pretrained word vectors to the indices in the vocabulary. This will be very useful for part 3 and 4 of the problem.  "
   ]
  },
  {
   "cell_type": "code",
   "execution_count": null,
   "metadata": {
    "collapsed": true
   },
   "outputs": [],
   "source": [
    "# Build the vocabulary with word embeddings\n",
    "url = 'https://s3-us-west-1.amazonaws.com/fasttext-vectors/wiki.simple.vec'\n",
    "TEXT.vocab.load_vectors(vectors=Vectors('wiki.simple.vec', url=url))\n",
    "\n",
    "print(\"Word embeddings size \", TEXT.vocab.vectors.size())\n",
    "print(\"Word embedding of 'follows', first 10 dim \", TEXT.vocab.vectors[TEXT.vocab.stoi['follows']][:10])"
   ]
  },
  {
   "cell_type": "markdown",
   "metadata": {},
   "source": [
    "## Assignment\n",
    "\n",
    "Now it is your turn to build the models described at the top of the assignment. \n",
    "\n",
    "Using the data given by this iterator, you should construct 4 different torch models that take in batch.text and produce a distribution over labels. \n",
    "\n",
    "When a model is trained, use the following test function to produce predictions, and then upload to the kaggle competition:  https://www.kaggle.com/c/harvard-cs281-hw1"
   ]
  },
  {
   "cell_type": "markdown",
   "metadata": {},
   "source": [
    "## Section 0: Setup"
   ]
  },
  {
   "cell_type": "code",
   "execution_count": 65,
   "metadata": {},
   "outputs": [
    {
     "name": "stdout",
     "output_type": "stream",
     "text": [
      "len(TEXT.vocab) 16284\n",
      "len(LABEL.vocab) 3\n"
     ]
    }
   ],
   "source": [
    "import torch \n",
    "import torchtext\n",
    "from torchtext.vocab import Vectors, GloVe\n",
    "import torch.nn as nn \n",
    "\n",
    "# Our input $x$\n",
    "TEXT = torchtext.data.Field(fix_length=56)\n",
    "#TEXT = torchtext.data.Field() \n",
    "# Our labels $y$\n",
    "LABEL = torchtext.data.Field(sequential=False)\n",
    "\n",
    "train, val, test = torchtext.datasets.SST.splits(\n",
    "    TEXT, LABEL,\n",
    "    filter_pred=lambda ex: ex.label != 'neutral')\n",
    "\n",
    "TEXT.build_vocab(train)\n",
    "LABEL.build_vocab(train)\n",
    "#this is just the set of stuff \n",
    "print('len(TEXT.vocab)', len(TEXT.vocab))\n",
    "print('len(LABEL.vocab)', len(LABEL.vocab))\n",
    "\n",
    "train_iter, val_iter, test_iter = torchtext.data.BucketIterator.splits(\n",
    "    (train, val, test), batch_size=10, device=-1, repeat=False)\n",
    "\n",
    "# Build the vocabulary with word embeddings\n",
    "url = 'https://s3-us-west-1.amazonaws.com/fasttext-vectors/wiki.simple.vec'\n",
    "TEXT.vocab.load_vectors(vectors=Vectors('wiki.simple.vec', url=url))"
   ]
  },
  {
   "cell_type": "markdown",
   "metadata": {},
   "source": [
    "## Section 1: Naive Bayes"
   ]
  },
  {
   "cell_type": "code",
   "execution_count": 62,
   "metadata": {
    "collapsed": true
   },
   "outputs": [],
   "source": [
    "class MNBayes(nn.Module): \n",
    "    def __init__(self, input_dim, output_dim=2):\n",
    "        super(MNBayes, self).__init__()\n",
    "        #linear classifier \n",
    "        self.input_dim = input_dim\n",
    "        self.linear = nn.Linear(input_dim, output_dim, bias=True)\n",
    "        #activation function \n",
    "        self.sigmoid = nn.Sigmoid() \n",
    "        self.logsoftmax = nn.LogSoftmax()\n",
    "    \n",
    "    def forward(self, x): \n",
    "        x_bin = self.batch_vectorize(x)\n",
    "        out = self.linear(x_bin)\n",
    "        out = self.sigmoid(out)\n",
    "        return self.logsoftmax(out)\n",
    "\n",
    "    def batch_vectorize(self, word_ind):\n",
    "        out = torch.zeros(word_ind.size(1), self.input_dim)\n",
    "        for j in range(word_ind.size(1)): \n",
    "            for i in range(word_ind.size(0)):\n",
    "                out[j, int(word_ind[i, j])] = 1 \n",
    "        return torch.autograd.Variable(out)"
   ]
  },
  {
   "cell_type": "code",
   "execution_count": 63,
   "metadata": {
    "collapsed": true
   },
   "outputs": [
    {
     "name": "stdout",
     "output_type": "stream",
     "text": [
      "MNBayes(\n",
      "  (linear): Linear(in_features=16284, out_features=2)\n",
      "  (sigmoid): Sigmoid()\n",
      "  (logsoftmax): LogSoftmax()\n",
      ")\n"
     ]
    },
    {
     "name": "stderr",
     "output_type": "stream",
     "text": [
      "/anaconda3/lib/python3.6/site-packages/ipykernel_launcher.py:15: UserWarning: Implicit dimension choice for log_softmax has been deprecated. Change the call to include dim=X as an argument.\n",
      "  from ipykernel import kernelapp as app\n",
      "/anaconda3/lib/python3.6/site-packages/ipykernel_launcher.py:21: DeprecationWarning: generator 'Iterator.__iter__' raised StopIteration\n",
      "/anaconda3/lib/python3.6/site-packages/ipykernel_launcher.py:5: DeprecationWarning: generator 'Iterator.__iter__' raised StopIteration\n",
      "  \"\"\"\n"
     ]
    },
    {
     "name": "stdout",
     "output_type": "stream",
     "text": [
      "Training performance after epoch 1: NLL: 1.2137, Accuracy: 0.6952\n",
      "Validation performance after epoch 1: NLL: 1.2771, Accuracy: 0.7099\n",
      "Training performance after epoch 2: NLL: 1.1551, Accuracy: 0.7447\n",
      "Validation performance after epoch 2: NLL: 1.2301, Accuracy: 0.7374\n",
      "Training performance after epoch 3: NLL: 1.1170, Accuracy: 0.7831\n",
      "Validation performance after epoch 3: NLL: 1.2154, Accuracy: 0.7443\n",
      "Training performance after epoch 4: NLL: 1.0797, Accuracy: 0.8038\n",
      "Validation performance after epoch 4: NLL: 1.1917, Accuracy: 0.7489\n",
      "Training performance after epoch 5: NLL: 1.0532, Accuracy: 0.8191\n",
      "Validation performance after epoch 5: NLL: 1.1806, Accuracy: 0.7305\n",
      "Training performance after epoch 6: NLL: 1.0324, Accuracy: 0.8364\n",
      "Validation performance after epoch 6: NLL: 1.1676, Accuracy: 0.7661\n",
      "Training performance after epoch 7: NLL: 1.0126, Accuracy: 0.8439\n",
      "Validation performance after epoch 7: NLL: 1.1514, Accuracy: 0.7649\n",
      "Training performance after epoch 8: NLL: 1.0130, Accuracy: 0.8155\n",
      "Validation performance after epoch 8: NLL: 1.1679, Accuracy: 0.7202\n",
      "Training performance after epoch 9: NLL: 0.9853, Accuracy: 0.8624\n",
      "Validation performance after epoch 9: NLL: 1.1441, Accuracy: 0.7729\n",
      "Training performance after epoch 10: NLL: 0.9696, Accuracy: 0.8708\n",
      "Validation performance after epoch 10: NLL: 1.1367, Accuracy: 0.7638\n",
      "Training performance after epoch 11: NLL: 0.9585, Accuracy: 0.8744\n",
      "Validation performance after epoch 11: NLL: 1.1370, Accuracy: 0.7615\n",
      "Training performance after epoch 12: NLL: 0.9470, Accuracy: 0.8829\n",
      "Validation performance after epoch 12: NLL: 1.1343, Accuracy: 0.7615\n",
      "Training performance after epoch 13: NLL: 0.9359, Accuracy: 0.8910\n",
      "Validation performance after epoch 13: NLL: 1.1245, Accuracy: 0.7683\n",
      "Training performance after epoch 14: NLL: 0.9269, Accuracy: 0.8945\n",
      "Validation performance after epoch 14: NLL: 1.1212, Accuracy: 0.7752\n",
      "Training performance after epoch 15: NLL: 0.9192, Accuracy: 0.9013\n",
      "Validation performance after epoch 15: NLL: 1.1300, Accuracy: 0.7718\n",
      "Training performance after epoch 16: NLL: 0.9108, Accuracy: 0.9009\n",
      "Validation performance after epoch 16: NLL: 1.1197, Accuracy: 0.7718\n",
      "Training performance after epoch 17: NLL: 0.9025, Accuracy: 0.9079\n",
      "Validation performance after epoch 17: NLL: 1.1220, Accuracy: 0.7729\n",
      "Training performance after epoch 18: NLL: 0.8960, Accuracy: 0.9117\n",
      "Validation performance after epoch 18: NLL: 1.1170, Accuracy: 0.7775\n",
      "Training performance after epoch 19: NLL: 0.8900, Accuracy: 0.9169\n",
      "Validation performance after epoch 19: NLL: 1.1194, Accuracy: 0.7764\n",
      "Training performance after epoch 20: NLL: 0.8830, Accuracy: 0.9186\n",
      "Validation performance after epoch 20: NLL: 1.1183, Accuracy: 0.7706\n"
     ]
    }
   ],
   "source": [
    "def test_runtime(model, data):\n",
    "    correct = 0.\n",
    "    num_examples = 0.\n",
    "    nll = 0.\n",
    "    for batch in data:\n",
    "        text, label = batch.text, batch.label\n",
    "        y_pred = model(text)\n",
    "        nll_batch = criterion(y_pred, label - 1)\n",
    "        nll += nll_batch.data[0] * text.size(0) #by default NLL is averaged over each batch\n",
    "        y_pred_max, y_pred_argmax = torch.max(y_pred, 1) #prediction is the argmax\n",
    "        correct += (y_pred_argmax.data == label.data - 1).sum() \n",
    "        num_examples += text.size(1) \n",
    "    return nll/num_examples, correct/num_examples\n",
    "\n",
    "criterion = nn.NLLLoss()\n",
    "mnBayes = MNBayes(input_dim=len(TEXT.vocab))\n",
    "print(mnBayes)\n",
    "optim = torch.optim.SGD(mnBayes.parameters(), lr = 0.5)\n",
    "num_epochs = 20\n",
    "for e in range(num_epochs):\n",
    "    for batch in train_iter:\n",
    "        optim.zero_grad()\n",
    "        text, label = batch.text, batch.label\n",
    "        y_pred = mnBayes(text)\n",
    "        nll_batch = criterion(y_pred, label-1)    \n",
    "        nll_batch.backward()\n",
    "        optim.step()\n",
    "    nll_train, accuracy_train = test_runtime(mnBayes, train_iter)\n",
    "    nll_val, accuracy_val = test_runtime(mnBayes, val_iter)\n",
    "    print('Training performance after epoch %d: NLL: %.4f, Accuracy: %.4f'% (e+1, nll_train, accuracy_train))\n",
    "    print('Validation performance after epoch %d: NLL: %.4f, Accuracy: %.4f'% (e+1, nll_val, accuracy_val))"
   ]
  },
  {
   "cell_type": "code",
   "execution_count": null,
   "metadata": {
    "collapsed": true
   },
   "outputs": [],
   "source": [
    "def test(model):\n",
    "    \"All models should be able to be run with following command.\"\n",
    "    upload = []\n",
    "    # Update: for kaggle the bucket iterator needs to have batch_size 10\n",
    "    test_iter = torchtext.data.BucketIterator(test, train=False, batch_size=10)\n",
    "    for batch in test_iter:\n",
    "        # Your prediction data here (don't cheat!)\n",
    "        probs = model(b.text)\n",
    "        _, argmax = probs.max(1)\n",
    "        upload += list(argmax.data)\n",
    "    with open(\"predictions.txt\", \"w\") as f:\n",
    "        for u in upload:\n",
    "            f.write(str(u) + \"\\n\")"
   ]
  },
  {
   "cell_type": "markdown",
   "metadata": {
    "collapsed": true
   },
   "source": [
    "## Part 3: CBOW \n"
   ]
  },
  {
   "cell_type": "code",
   "execution_count": 60,
   "metadata": {
    "scrolled": true
   },
   "outputs": [
    {
     "name": "stdout",
     "output_type": "stream",
     "text": [
      "CBOW(\n",
      "  (embed): Embedding(16284, 300)\n",
      "  (linear): Linear(in_features=300, out_features=2)\n",
      "  (sigmoid): Sigmoid()\n",
      "  (logsoftmax): LogSoftmax()\n",
      ")\n"
     ]
    },
    {
     "name": "stderr",
     "output_type": "stream",
     "text": [
      "/anaconda3/lib/python3.6/site-packages/ipykernel_launcher.py:34: UserWarning: Implicit dimension choice for log_softmax has been deprecated. Change the call to include dim=X as an argument.\n",
      "/anaconda3/lib/python3.6/site-packages/ipykernel_launcher.py:44: DeprecationWarning: generator 'Iterator.__iter__' raised StopIteration\n",
      "/anaconda3/lib/python3.6/site-packages/ipykernel_launcher.py:5: DeprecationWarning: generator 'Iterator.__iter__' raised StopIteration\n",
      "  \"\"\"\n"
     ]
    },
    {
     "name": "stdout",
     "output_type": "stream",
     "text": [
      "Training performance after epoch 1: NLL: 1.1926, Accuracy: 0.6889\n",
      "Validation performance after epoch 1: NLL: 1.2382, Accuracy: 0.7018\n",
      "Training performance after epoch 2: NLL: 1.1539, Accuracy: 0.7101\n",
      "Validation performance after epoch 2: NLL: 1.2083, Accuracy: 0.7110\n",
      "Training performance after epoch 3: NLL: 1.2146, Accuracy: 0.7275\n",
      "Validation performance after epoch 3: NLL: 1.2598, Accuracy: 0.7110\n",
      "Training performance after epoch 4: NLL: 1.1619, Accuracy: 0.7039\n",
      "Validation performance after epoch 4: NLL: 1.2520, Accuracy: 0.6789\n",
      "Training performance after epoch 5: NLL: 1.0975, Accuracy: 0.7397\n",
      "Validation performance after epoch 5: NLL: 1.1852, Accuracy: 0.7202\n",
      "Training performance after epoch 6: NLL: 1.1034, Accuracy: 0.7393\n",
      "Validation performance after epoch 6: NLL: 1.1937, Accuracy: 0.7167\n",
      "Training performance after epoch 7: NLL: 1.0955, Accuracy: 0.7432\n",
      "Validation performance after epoch 7: NLL: 1.1913, Accuracy: 0.7225\n",
      "Training performance after epoch 8: NLL: 1.0906, Accuracy: 0.7441\n",
      "Validation performance after epoch 8: NLL: 1.1712, Accuracy: 0.7248\n",
      "Training performance after epoch 9: NLL: 1.1276, Accuracy: 0.7423\n",
      "Validation performance after epoch 9: NLL: 1.1962, Accuracy: 0.7213\n",
      "Training performance after epoch 10: NLL: 1.1080, Accuracy: 0.7354\n",
      "Validation performance after epoch 10: NLL: 1.1968, Accuracy: 0.7156\n",
      "Training performance after epoch 11: NLL: 1.1801, Accuracy: 0.6990\n",
      "Validation performance after epoch 11: NLL: 1.2268, Accuracy: 0.7167\n",
      "Training performance after epoch 12: NLL: 1.0852, Accuracy: 0.7445\n",
      "Validation performance after epoch 12: NLL: 1.1970, Accuracy: 0.7041\n",
      "Training performance after epoch 13: NLL: 1.1157, Accuracy: 0.7519\n",
      "Validation performance after epoch 13: NLL: 1.1874, Accuracy: 0.7167\n",
      "Training performance after epoch 14: NLL: 1.1608, Accuracy: 0.7068\n",
      "Validation performance after epoch 14: NLL: 1.2645, Accuracy: 0.6846\n",
      "Training performance after epoch 15: NLL: 1.1399, Accuracy: 0.7181\n",
      "Validation performance after epoch 15: NLL: 1.2462, Accuracy: 0.6846\n",
      "Training performance after epoch 16: NLL: 1.0811, Accuracy: 0.7494\n",
      "Validation performance after epoch 16: NLL: 1.1774, Accuracy: 0.7236\n",
      "Training performance after epoch 17: NLL: 1.0804, Accuracy: 0.7496\n",
      "Validation performance after epoch 17: NLL: 1.1948, Accuracy: 0.7236\n",
      "Training performance after epoch 18: NLL: 1.0880, Accuracy: 0.7438\n",
      "Validation performance after epoch 18: NLL: 1.2132, Accuracy: 0.6961\n",
      "Training performance after epoch 19: NLL: 1.0946, Accuracy: 0.7546\n",
      "Validation performance after epoch 19: NLL: 1.1847, Accuracy: 0.7053\n",
      "Training performance after epoch 20: NLL: 1.0737, Accuracy: 0.7499\n",
      "Validation performance after epoch 20: NLL: 1.1950, Accuracy: 0.7007\n",
      "Training performance after epoch 21: NLL: 1.0800, Accuracy: 0.7491\n",
      "Validation performance after epoch 21: NLL: 1.2143, Accuracy: 0.6984\n",
      "Training performance after epoch 22: NLL: 1.0706, Accuracy: 0.7523\n",
      "Validation performance after epoch 22: NLL: 1.2062, Accuracy: 0.6995\n",
      "Training performance after epoch 23: NLL: 1.0893, Accuracy: 0.7431\n",
      "Validation performance after epoch 23: NLL: 1.2018, Accuracy: 0.7202\n",
      "Training performance after epoch 24: NLL: 1.0626, Accuracy: 0.7545\n",
      "Validation performance after epoch 24: NLL: 1.1829, Accuracy: 0.7213\n",
      "Training performance after epoch 25: NLL: 1.0800, Accuracy: 0.7467\n",
      "Validation performance after epoch 25: NLL: 1.1931, Accuracy: 0.7202\n",
      "Training performance after epoch 26: NLL: 1.0577, Accuracy: 0.7571\n",
      "Validation performance after epoch 26: NLL: 1.1975, Accuracy: 0.7030\n",
      "Training performance after epoch 27: NLL: 1.0555, Accuracy: 0.7565\n",
      "Validation performance after epoch 27: NLL: 1.1843, Accuracy: 0.7099\n",
      "Training performance after epoch 28: NLL: 1.0618, Accuracy: 0.7535\n",
      "Validation performance after epoch 28: NLL: 1.2058, Accuracy: 0.7041\n",
      "Training performance after epoch 29: NLL: 1.0784, Accuracy: 0.7484\n",
      "Validation performance after epoch 29: NLL: 1.2115, Accuracy: 0.6904\n",
      "Training performance after epoch 30: NLL: 1.0718, Accuracy: 0.7499\n",
      "Validation performance after epoch 30: NLL: 1.2167, Accuracy: 0.6915\n",
      "Training performance after epoch 31: NLL: 1.0559, Accuracy: 0.7564\n",
      "Validation performance after epoch 31: NLL: 1.1985, Accuracy: 0.7087\n",
      "Training performance after epoch 32: NLL: 1.0689, Accuracy: 0.7509\n",
      "Validation performance after epoch 32: NLL: 1.1880, Accuracy: 0.7213\n",
      "Training performance after epoch 33: NLL: 1.0491, Accuracy: 0.7616\n",
      "Validation performance after epoch 33: NLL: 1.1820, Accuracy: 0.7202\n",
      "Training performance after epoch 34: NLL: 1.0486, Accuracy: 0.7613\n",
      "Validation performance after epoch 34: NLL: 1.1974, Accuracy: 0.7144\n",
      "Training performance after epoch 35: NLL: 1.0430, Accuracy: 0.7614\n",
      "Validation performance after epoch 35: NLL: 1.1889, Accuracy: 0.7133\n",
      "Training performance after epoch 36: NLL: 1.0598, Accuracy: 0.7553\n",
      "Validation performance after epoch 36: NLL: 1.1870, Accuracy: 0.7225\n",
      "Training performance after epoch 37: NLL: 1.0436, Accuracy: 0.7621\n",
      "Validation performance after epoch 37: NLL: 1.1830, Accuracy: 0.7202\n",
      "Training performance after epoch 38: NLL: 1.0461, Accuracy: 0.7618\n",
      "Validation performance after epoch 38: NLL: 1.1875, Accuracy: 0.7202\n",
      "Training performance after epoch 39: NLL: 1.0932, Accuracy: 0.7409\n",
      "Validation performance after epoch 39: NLL: 1.1882, Accuracy: 0.7144\n",
      "Training performance after epoch 40: NLL: 1.0644, Accuracy: 0.7532\n",
      "Validation performance after epoch 40: NLL: 1.1833, Accuracy: 0.7248\n"
     ]
    }
   ],
   "source": [
    "def test_cbow(model, data):\n",
    "    correct = 0.\n",
    "    num_examples = 0.\n",
    "    nll = 0.\n",
    "    for batch in data:\n",
    "        text = batch.text\n",
    "        label = batch.label\n",
    "        y_pred = model(text)\n",
    "        nll_batch = criterion(y_pred, label-1)\n",
    "        nll += nll_batch.data[0] * text.size(0) #by default NLL is averaged over each batch\n",
    "        y_pred_max, y_pred_argmax = torch.max(y_pred, 1) #prediction is the argmax\n",
    "        correct += (y_pred_argmax.data == label.data-1).sum() \n",
    "        num_examples += text.size(1) \n",
    "    return nll/num_examples, correct/num_examples\n",
    "\n",
    "class CBOW(nn.Module):\n",
    "\n",
    "    def __init__(self, vocab, embedding_dim, output_dim=2):\n",
    "        super(CBOW, self).__init__()\n",
    "        #linear classifier \n",
    "        self.embed = nn.Embedding(len(vocab), embedding_dim)\n",
    "        self.embed.weight.data.copy_(vocab.vectors)\n",
    "        self.embed.weight.requires_grad = False\n",
    "        self.linear = nn.Linear(embedding_dim, output_dim, bias=True)\n",
    "        #activation function \n",
    "        self.sigmoid = nn.Sigmoid() \n",
    "        self.logsoftmax = nn.LogSoftmax()\n",
    "\n",
    "    def forward(self, x):\n",
    "        x_embed = self.embed(x.t())\n",
    "        x_flatten = torch.sum(x_embed, dim=1)\n",
    "        out = self.linear(x_flatten)\n",
    "        out = self.sigmoid(out)\n",
    "        return self.logsoftmax(out)\n",
    "    \n",
    "\n",
    "cbow_model = CBOW(TEXT.vocab, embedding_dim=300)\n",
    "print(cbow_model)\n",
    "criterion = nn.NLLLoss()\n",
    "parameters = filter(lambda p: p.requires_grad, cbow_model.parameters())\n",
    "optim = torch.optim.SGD(parameters, lr = 0.1)\n",
    "num_epochs = 40\n",
    "for e in range(num_epochs):\n",
    "    for batch in train_iter:\n",
    "        optim.zero_grad()\n",
    "        #text = torch.autograd.Variable(batch_index_to_vec(batch.text))\n",
    "        text = batch.text \n",
    "        label = batch.label\n",
    "        y_pred = cbow_model(text)\n",
    "        nll_batch = criterion(y_pred, label - 1)    \n",
    "        nll_batch.backward()\n",
    "        optim.step()\n",
    "    nll_train, accuracy_train = test_cbow(cbow_model, train_iter)\n",
    "    nll_val, accuracy_val = test_cbow(cbow_model, val_iter)\n",
    "    print('Training performance after epoch %d: NLL: %.4f, Accuracy: %.4f'% (e+1, nll_train, accuracy_train))\n",
    "    print('Validation performance after epoch %d: NLL: %.4f, Accuracy: %.4f'% (e+1, nll_val, accuracy_val))"
   ]
  },
  {
   "cell_type": "code",
   "execution_count": 66,
   "metadata": {},
   "outputs": [
    {
     "name": "stderr",
     "output_type": "stream",
     "text": [
      "/anaconda3/lib/python3.6/site-packages/ipykernel_launcher.py:43: UserWarning: Implicit dimension choice for log_softmax has been deprecated. Change the call to include dim=X as an argument.\n",
      "/anaconda3/lib/python3.6/site-packages/ipykernel_launcher.py:51: DeprecationWarning: generator 'Iterator.__iter__' raised StopIteration\n",
      "/anaconda3/lib/python3.6/site-packages/ipykernel_launcher.py:6: DeprecationWarning: generator 'Iterator.__iter__' raised StopIteration\n",
      "  \n"
     ]
    },
    {
     "name": "stdout",
     "output_type": "stream",
     "text": [
      "Training performance after epoch 1: NLL: 3.8810, Accuracy: 0.4783\n",
      "Validation performance after epoch 1: NLL: 3.9157, Accuracy: 0.4908\n",
      "Training performance after epoch 2: NLL: 3.8776, Accuracy: 0.5202\n",
      "Validation performance after epoch 2: NLL: 3.9168, Accuracy: 0.4943\n",
      "Training performance after epoch 3: NLL: 3.6867, Accuracy: 0.6584\n",
      "Validation performance after epoch 3: NLL: 3.7295, Accuracy: 0.6388\n",
      "Training performance after epoch 4: NLL: 3.6682, Accuracy: 0.6105\n",
      "Validation performance after epoch 4: NLL: 3.7767, Accuracy: 0.5998\n",
      "Training performance after epoch 5: NLL: 3.1486, Accuracy: 0.7543\n",
      "Validation performance after epoch 5: NLL: 3.4638, Accuracy: 0.6697\n",
      "Training performance after epoch 6: NLL: 2.9491, Accuracy: 0.7871\n",
      "Validation performance after epoch 6: NLL: 3.4302, Accuracy: 0.6812\n",
      "Training performance after epoch 7: NLL: 2.8105, Accuracy: 0.8139\n",
      "Validation performance after epoch 7: NLL: 3.4301, Accuracy: 0.6732\n",
      "Training performance after epoch 8: NLL: 2.7240, Accuracy: 0.8315\n",
      "Validation performance after epoch 8: NLL: 3.4573, Accuracy: 0.6812\n",
      "Training performance after epoch 9: NLL: 2.6202, Accuracy: 0.8571\n",
      "Validation performance after epoch 9: NLL: 3.4310, Accuracy: 0.6800\n",
      "Training performance after epoch 10: NLL: 2.5325, Accuracy: 0.8699\n",
      "Validation performance after epoch 10: NLL: 3.4459, Accuracy: 0.6858\n",
      "Training performance after epoch 11: NLL: 2.6137, Accuracy: 0.8526\n",
      "Validation performance after epoch 11: NLL: 3.4361, Accuracy: 0.6915\n",
      "Training performance after epoch 12: NLL: 2.5435, Accuracy: 0.8626\n",
      "Validation performance after epoch 12: NLL: 3.4847, Accuracy: 0.6858\n",
      "Training performance after epoch 13: NLL: 2.4346, Accuracy: 0.8828\n",
      "Validation performance after epoch 13: NLL: 3.4466, Accuracy: 0.6823\n",
      "Training performance after epoch 14: NLL: 2.3165, Accuracy: 0.9082\n",
      "Validation performance after epoch 14: NLL: 3.4863, Accuracy: 0.6823\n",
      "Training performance after epoch 15: NLL: 2.2399, Accuracy: 0.9194\n",
      "Validation performance after epoch 15: NLL: 3.4760, Accuracy: 0.6732\n",
      "Training performance after epoch 16: NLL: 2.2095, Accuracy: 0.9247\n",
      "Validation performance after epoch 16: NLL: 3.4481, Accuracy: 0.6892\n",
      "Training performance after epoch 17: NLL: 2.2158, Accuracy: 0.9301\n",
      "Validation performance after epoch 17: NLL: 3.4458, Accuracy: 0.6846\n",
      "Training performance after epoch 18: NLL: 2.2328, Accuracy: 0.9211\n",
      "Validation performance after epoch 18: NLL: 3.5287, Accuracy: 0.6617\n",
      "Training performance after epoch 19: NLL: 2.1432, Accuracy: 0.9337\n",
      "Validation performance after epoch 19: NLL: 3.4990, Accuracy: 0.6720\n",
      "Training performance after epoch 20: NLL: 2.1170, Accuracy: 0.9354\n",
      "Validation performance after epoch 20: NLL: 3.4617, Accuracy: 0.6812\n"
     ]
    }
   ],
   "source": [
    "## Part 4 CNN \n",
    "def test_cnn(model, data):\n",
    "    correct = 0.\n",
    "    num_examples = 0.\n",
    "    nll = 0.\n",
    "    for batch in data:\n",
    "        text = batch.text\n",
    "        label = batch.label\n",
    "        y_pred = model(text)\n",
    "        nll_batch = criterion(y_pred, label - 1)\n",
    "        nll += nll_batch.data[0] * text.size(0) #by default NLL is averaged over each batch\n",
    "        y_pred_max, y_pred_argmax = torch.max(y_pred, 1) #prediction is the argmax\n",
    "        correct += (y_pred_argmax.data == label.data - 1).sum() \n",
    "        num_examples += text.size(1)\n",
    "    return nll/num_examples, correct/num_examples\n",
    "\n",
    "class CNN(nn.Module):\n",
    "\n",
    "    def __init__(self, vocab, embedding_dim, output_dim=2):\n",
    "        super(CNN, self).__init__()\n",
    "        self.embed = nn.Embedding(len(vocab), embedding_dim)\n",
    "        self.embed.weight.data.copy_(vocab.vectors)\n",
    "        self.conv1 = nn.Conv2d(1, 16, 4)\n",
    "        self.relu = nn.ReLU() \n",
    "        self.pooling = nn.MaxPool2d(4)\n",
    "        self.embed.weight.requires_grad = False\n",
    "        self.fc = nn.Linear(15392, output_dim)\n",
    "        self.sigmoid = nn.Sigmoid() \n",
    "        self.logsoftmax = nn.LogSoftmax()\n",
    "\n",
    "    def forward(self, x):\n",
    "        # here x is batch size x length of post X embedding dim \n",
    "        #print(x.shape)\n",
    "        x_embed = self.embed(x.t())\n",
    "        #print(x_embed.shape)\n",
    "        fc = self.conv1(x_embed.unsqueeze(1))\n",
    "        #print(fc.shape)\n",
    "        relu = self.relu(fc)\n",
    "        pool = self.pooling(relu)\n",
    "        #print(pool.shape)\n",
    "        out = self.fc(pool.view(x_embed.size(0), -1))\n",
    "        out = self.sigmoid(out)\n",
    "        return self.logsoftmax(out)\n",
    "\n",
    "cnn_model = CNN(TEXT.vocab, embedding_dim=300)\n",
    "criterion = nn.NLLLoss()\n",
    "parameters = filter(lambda p: p.requires_grad, cnn_model.parameters())\n",
    "optim = torch.optim.SGD(parameters, lr = 0.5)\n",
    "num_epochs = 20\n",
    "for e in range(num_epochs):\n",
    "    for batch in train_iter:\n",
    "        optim.zero_grad()\n",
    "        text = batch.text\n",
    "        label = batch.label\n",
    "        y_pred = cnn_model(text)\n",
    "        nll_batch = criterion(y_pred, label-1)    \n",
    "        nll_batch.backward()\n",
    "        optim.step()\n",
    "    nll_train, accuracy_train = test_cnn(cnn_model, train_iter)\n",
    "    nll_val, accuracy_val = test_cnn(cnn_model, val_iter)\n",
    "    print('Training performance after epoch %d: NLL: %.4f, Accuracy: %.4f'% (e+1, nll_train, accuracy_train))\n",
    "    print('Validation performance after epoch %d: NLL: %.4f, Accuracy: %.4f'% (e+1, nll_val, accuracy_val))"
   ]
  },
  {
   "cell_type": "markdown",
   "metadata": {},
   "source": [
    "In addition, you should put up a (short) write-up following the template provided in the repository:  https://github.com/harvard-ml-courses/cs287-s18/blob/master/template/"
   ]
  }
 ],
 "metadata": {
  "kernelspec": {
   "display_name": "Python 3",
   "language": "python",
   "name": "python3"
  },
  "language_info": {
   "codemirror_mode": {
    "name": "ipython",
    "version": 3
   },
   "file_extension": ".py",
   "mimetype": "text/x-python",
   "name": "python",
   "nbconvert_exporter": "python",
   "pygments_lexer": "ipython3",
   "version": "3.6.3"
  }
 },
 "nbformat": 4,
 "nbformat_minor": 2
}
