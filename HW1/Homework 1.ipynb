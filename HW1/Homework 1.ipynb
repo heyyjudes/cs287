{
 "cells": [
  {
   "cell_type": "markdown",
   "metadata": {},
   "source": [
    "# HW 1 Classification"
   ]
  },
  {
   "cell_type": "markdown",
   "metadata": {},
   "source": [
    "In this homework you will be building several varieties of text classifiers.\n",
    "\n",
    "## Goal\n",
    "\n",
    "We ask that you construct the following models in PyTorch:\n",
    "\n",
    "1. A naive Bayes unigram classifer (follow Wang and Manning http://www.aclweb.org/anthology/P/P12/P12-2.pdf#page=118: you should only implement Naive Bayes, not the combined classifer with SVM).\n",
    "2. A logistic regression model over word types (you can implement this as $y = \\sigma(\\sum_i W x_i + b)$) \n",
    "3. A continuous bag-of-word neural network with embeddings (similar to CBOW in Mikolov et al https://arxiv.org/pdf/1301.3781.pdf).\n",
    "4. A simple convolutional neural network (any variant of CNN as described in Kim http://aclweb.org/anthology/D/D14/D14-1181.pdf).\n",
    "5. Your own extensions to these models...\n",
    "\n",
    "Consult the papers provided for hyperparameters. \n"
   ]
  },
  {
   "cell_type": "markdown",
   "metadata": {},
   "source": [
    "## Setup\n",
    "\n",
    "This notebook provides a working definition of the setup of the problem itself. You may construct your models inline or use an external setup (preferred) to build your system."
   ]
  },
  {
   "cell_type": "code",
   "execution_count": null,
   "metadata": {},
   "outputs": [],
   "source": [
    "%pip install torchtext"
   ]
  },
  {
   "cell_type": "code",
   "execution_count": null,
   "metadata": {},
   "outputs": [],
   "source": [
    "# Text text processing library and methods for pretrained word embeddings\n",
    "import torch \n",
    "import torchtext\n",
    "from torchtext.vocab import Vectors, GloVe\n",
    "import torch.nn as nn "
   ]
  },
  {
   "cell_type": "markdown",
   "metadata": {},
   "source": [
    "The dataset we will use of this problem is known as the Stanford Sentiment Treebank (https://nlp.stanford.edu/~socherr/EMNLP2013_RNTN.pdf). It is a variant of a standard sentiment classification task. For simplicity, we will use the most basic form. Classifying a sentence as positive or negative in sentiment. "
   ]
  },
  {
   "cell_type": "markdown",
   "metadata": {},
   "source": [
    "To start, `torchtext` requires that we define a mapping from the raw text data to featurized indices. These fields make it easy to map back and forth between readable data and math, which helps for debugging."
   ]
  },
  {
   "cell_type": "code",
   "execution_count": null,
   "metadata": {
    "collapsed": true
   },
   "outputs": [],
   "source": [
    "# Our input $x$\n",
    "TEXT = torchtext.data.Field(fix_length=56)\n",
    "#TEXT = torchtext.data.Field() \n",
    "# Our labels $y$\n",
    "LABEL = torchtext.data.Field(sequential=False)"
   ]
  },
  {
   "cell_type": "markdown",
   "metadata": {},
   "source": [
    "Next we input our data. Here we will use the standard SST train split, and tell it the fields."
   ]
  },
  {
   "cell_type": "code",
   "execution_count": null,
   "metadata": {},
   "outputs": [],
   "source": [
    "train, val, test = torchtext.datasets.SST.splits(\n",
    "    TEXT, LABEL,\n",
    "    filter_pred=lambda ex: ex.label != 'neutral')"
   ]
  },
  {
   "cell_type": "markdown",
   "metadata": {},
   "source": [
    "Let's look at this data. It's still in its original form, we can see that each example consists of a label and the original words."
   ]
  },
  {
   "cell_type": "code",
   "execution_count": null,
   "metadata": {},
   "outputs": [],
   "source": [
    "print('len(train)', len(train))\n",
    "print('vars(train[0])', vars(train[0]))"
   ]
  },
  {
   "cell_type": "markdown",
   "metadata": {},
   "source": [
    "In order to map this data to features, we need to assign an index to each word an label. The function build vocab allows us to do this and provides useful options that we will need in future assignments."
   ]
  },
  {
   "cell_type": "code",
   "execution_count": null,
   "metadata": {},
   "outputs": [],
   "source": [
    "TEXT.build_vocab(train)\n",
    "LABEL.build_vocab(train)\n",
    "#this is just the set of stuff \n",
    "print('len(TEXT.vocab)', len(TEXT.vocab))\n",
    "print('len(LABEL.vocab)', len(LABEL.vocab))"
   ]
  },
  {
   "cell_type": "markdown",
   "metadata": {},
   "source": [
    "Finally we are ready to create batches of our training data that can be used for training and validating the model. This function produces 3 iterators that will let us go through the train, val and test data. "
   ]
  },
  {
   "cell_type": "code",
   "execution_count": null,
   "metadata": {},
   "outputs": [],
   "source": [
    "print(len(val))\n",
    "print(len(test))\n",
    "print(len(train))\n",
    "train_iter, val_iter, test_iter = torchtext.data.BucketIterator.splits(\n",
    "    (train, val, test), batch_size=10, device=-1, repeat=False)"
   ]
  },
  {
   "cell_type": "markdown",
   "metadata": {},
   "source": [
    "Let's look at a single batch from one of these iterators. The library automatically converts the underlying words into indices. It then produces tensors for batches of x and y. In this case it will consist of the number of words of the longest sentence (with padding) followed by the number of batches. We can use the vocabulary dictionary to convert back from these indices to words."
   ]
  },
  {
   "cell_type": "code",
   "execution_count": null,
   "metadata": {
    "scrolled": true
   },
   "outputs": [],
   "source": [
    "batch = next(iter(train_iter))\n",
    "print(\"Size of text batch [max sent length, batch size]\", batch.text.size())\n",
    "print(batch.text[:, 0].data)\n",
    "print(\"Converted back to string: \", \" \".join([TEXT.vocab.itos[i] for i in batch.text[:, 0].data]))"
   ]
  },
  {
   "cell_type": "code",
   "execution_count": null,
   "metadata": {},
   "outputs": [],
   "source": [
    "count = 0 \n",
    "for batch in train_iter: \n",
    "    count += 1 \n",
    "print(count)"
   ]
  },
  {
   "cell_type": "markdown",
   "metadata": {},
   "source": [
    "Similarly it produces a vector for each of the labels in the batch. "
   ]
  },
  {
   "cell_type": "code",
   "execution_count": null,
   "metadata": {},
   "outputs": [],
   "source": [
    "print(\"Size of label batch [batch size]\", batch.label.size())\n",
    "print(\"Second in batch\", batch.label[0])\n",
    "print(\"Converted back to string: \", LABEL.vocab.itos[batch.label.data[0]])"
   ]
  },
  {
   "cell_type": "markdown",
   "metadata": {},
   "source": [
    "Finally the Vocab object can be used to map pretrained word vectors to the indices in the vocabulary. This will be very useful for part 3 and 4 of the problem.  "
   ]
  },
  {
   "cell_type": "code",
   "execution_count": null,
   "metadata": {
    "collapsed": true
   },
   "outputs": [],
   "source": [
    "# Build the vocabulary with word embeddings\n",
    "url = 'https://s3-us-west-1.amazonaws.com/fasttext-vectors/wiki.simple.vec'\n",
    "TEXT.vocab.load_vectors(vectors=Vectors('wiki.simple.vec', url=url))\n",
    "\n",
    "print(\"Word embeddings size \", TEXT.vocab.vectors.size())\n",
    "print(\"Word embedding of 'follows', first 10 dim \", TEXT.vocab.vectors[TEXT.vocab.stoi['follows']][:10])"
   ]
  },
  {
   "cell_type": "markdown",
   "metadata": {},
   "source": [
    "## Assignment\n",
    "\n",
    "Now it is your turn to build the models described at the top of the assignment. \n",
    "\n",
    "Using the data given by this iterator, you should construct 4 different torch models that take in batch.text and produce a distribution over labels. \n",
    "\n",
    "When a model is trained, use the following test function to produce predictions, and then upload to the kaggle competition:  https://www.kaggle.com/c/harvard-cs281-hw1"
   ]
  },
  {
   "cell_type": "markdown",
   "metadata": {},
   "source": [
    "## Section 0: Setup"
   ]
  },
  {
   "cell_type": "code",
   "execution_count": null,
   "metadata": {},
   "outputs": [],
   "source": [
    "import torch \n",
    "import torchtext\n",
    "from torchtext.vocab import Vectors, GloVe\n",
    "import torch.nn as nn \n",
    "\n",
    "# Our input $x$\n",
    "#TEXT = torchtext.data.Field(fix_length=56)\n",
    "TEXT = torchtext.data.Field() \n",
    "# Our labels $y$\n",
    "LABEL = torchtext.data.Field(sequential=False)\n",
    "\n",
    "train, val, test = torchtext.datasets.SST.splits(\n",
    "    TEXT, LABEL,\n",
    "    filter_pred=lambda ex: ex.label != 'neutral')\n",
    "\n",
    "TEXT.build_vocab(train)\n",
    "LABEL.build_vocab(train)\n",
    "#this is just the set of stuff \n",
    "print('len(TEXT.vocab)', len(TEXT.vocab))\n",
    "print('len(LABEL.vocab)', len(LABEL.vocab))\n",
    "\n",
    "train_iter, val_iter, test_iter = torchtext.data.BucketIterator.splits(\n",
    "    (train, val, test), batch_size=10, device=-1, repeat=False)\n",
    "\n",
    "# Build the vocabulary with word embeddings\n",
    "url = 'https://s3-us-west-1.amazonaws.com/fasttext-vectors/wiki.simple.vec'\n",
    "TEXT.vocab.load_vectors(vectors=Vectors('wiki.simple.vec', url=url))\n",
    "\n",
    "#Glove embeddings \n",
    "TEXT.vocab.load_vectors(vectors= GloVe(name=\"6B\", dim=\"300\"))"
   ]
  },
  {
   "cell_type": "markdown",
   "metadata": {},
   "source": [
    "## Section 1: Naive Bayes"
   ]
  },
  {
   "cell_type": "code",
   "execution_count": null,
   "metadata": {},
   "outputs": [],
   "source": [
    "def batch_vectorize_init(word_ind, labels, vocab_dim):\n",
    "    num_pos = (labels.data == 2).sum()\n",
    "    num_neg = (labels.data == 1).sum()\n",
    "    pos_out = torch.zeros(vocab_dim)\n",
    "    neg_out = torch.zeros(vocab_dim)\n",
    "    for j in range(word_ind.size(1)):\n",
    "        curr_vec = torch.zeros(vocab_dim)\n",
    "        for i in range(word_ind.size(0)):\n",
    "                curr_vec[int(word_ind[i, j])] = 1\n",
    "        #neg class \n",
    "        if labels.data[j] == 1: \n",
    "            neg_out += curr_vec\n",
    "        elif labels.data[j] == 2: \n",
    "            pos_out += curr_vec\n",
    "        else: \n",
    "            print(\"class not found\")\n",
    "    \n",
    "    return pos_out, neg_out, num_pos, num_neg\n",
    "\n",
    "def batch_vectorize(word_ind, vocab_size):\n",
    "    out = torch.zeros(word_ind.size(1), vocab_size)\n",
    "    for j in range(word_ind.size(1)): \n",
    "        for i in range(word_ind.size(0)):\n",
    "            out[j, int(word_ind[i, j])] = 1 \n",
    "    return out\n",
    "\n",
    "def test_naive(data, vocab_size):\n",
    "    correct = 0.\n",
    "    num_examples = 0.\n",
    "    nll = 0.\n",
    "    for batch in data:\n",
    "        if len(batch.label) == 10: \n",
    "            text, label = batch.text, batch.label\n",
    "            x = batch_vectorize(batch.text, vocab_size)\n",
    "            y_pred = torch.mm(x, R.t()) + b\n",
    "            y_pred_max, y_pred_argmax = torch.max(y_pred, 1) #prediction is the argmax\n",
    "            correct += (y_pred_argmax == label.data - 1).sum() \n",
    "            num_examples += text.size(1) \n",
    "    return correct/num_examples\n",
    "    \n",
    "n_pos = 0 \n",
    "n_neg = 0 \n",
    "alpha = 0.5 \n",
    "p = torch.zeros(len(TEXT.vocab))\n",
    "q = torch.zeros(len(TEXT.vocab))\n",
    "for batch in train_iter:\n",
    "    text, label = batch.text, batch.label\n",
    "    pos_vec, neg_vec, curr_pos, curr_neg = batch_vectorize_init(batch.text, batch.label, len(TEXT.vocab))\n",
    "    n_pos += curr_pos\n",
    "    n_neg += curr_neg\n",
    "    p += pos_vec \n",
    "    q += neg_vec \n",
    "n_pos_vec = torch.log(torch.Tensor([n_pos/(n_pos+n_neg)])).repeat(10)\n",
    "n_neg_vec = torch.log(torch.Tensor([n_neg/(n_pos+n_neg)])).repeat(10)\n",
    "b = torch.cat((n_neg_vec, n_pos_vec)).view(2, -1)\n",
    "p += alpha \n",
    "q += alpha \n",
    "R = torch.log(torch.cat((q/torch.abs(q).sum(), p/torch.abs(p).sum())).view(2, -1))\n",
    "        \n",
    "test_naive(test_iter, len(TEXT.vocab))"
   ]
  },
  {
   "cell_type": "markdown",
   "metadata": {},
   "source": [
    "## Part 2: Linear Regression"
   ]
  },
  {
   "cell_type": "code",
   "execution_count": null,
   "metadata": {
    "scrolled": true
   },
   "outputs": [],
   "source": [
    "def test_model(model, data):\n",
    "    correct = 0.\n",
    "    num_examples = 0.\n",
    "    nll = 0.\n",
    "    for batch in data:\n",
    "        text = batch.text\n",
    "        label = batch.label\n",
    "        y_pred = model(text)\n",
    "        nll_batch = criterion(y_pred, label-1)\n",
    "        nll += nll_batch.data[0] * text.size(0) #by default NLL is averaged over each batch\n",
    "        y_pred_max, y_pred_argmax = torch.max(y_pred, 1) #prediction is the argmax\n",
    "        correct += (y_pred_argmax.data == label.data-1).sum() \n",
    "        num_examples += text.size(1) \n",
    "    return nll/num_examples, correct/num_examples\n",
    "\n",
    "class LR_Unigram(nn.Module): \n",
    "    def __init__(self, vocab, output_dim=2):\n",
    "        super(LR_Unigram, self).__init__()\n",
    "        self.embed = nn.Embedding(len(vocab), len(vocab))\n",
    "        self.embed.weight.data = torch.eye(len(vocab))\n",
    "        self.embed.weight.requires_grad = False\n",
    "        self.input_dim = len(vocab)\n",
    "        self.linear = nn.Linear(len(vocab), output_dim, bias=True)\n",
    "        self.sigmoid = nn.Sigmoid() \n",
    "        self.logsoftmax = nn.LogSoftmax()\n",
    "    \n",
    "    def forward(self, x): \n",
    "        x_embed = self.embed(x.t())\n",
    "        x_flatten = torch.sum(x_embed, dim=1)\n",
    "        out = self.linear(x_flatten)\n",
    "        out = self.sigmoid(out)\n",
    "        return self.logsoftmax(out)\n",
    "\n",
    "lr_model = LR_Unigram(TEXT.vocab)\n",
    "print(lr_model)\n",
    "criterion = nn.NLLLoss()\n",
    "parameters = filter(lambda p: p.requires_grad, lr_model.parameters())\n",
    "optim = torch.optim.SGD(parameters, lr = 0.5)\n",
    "num_epochs = 20\n",
    "for e in range(num_epochs):\n",
    "    for batch in train_iter:\n",
    "        optim.zero_grad()\n",
    "        #text = torch.autograd.Variable(batch_index_to_vec(batch.text))\n",
    "        text = batch.text \n",
    "        label = batch.label\n",
    "        y_pred = lr_model(text)\n",
    "        nll_batch = criterion(y_pred, label - 1)    \n",
    "        nll_batch.backward()\n",
    "        optim.step()\n",
    "    nll_train, accuracy_train = test_model(lr_model, train_iter)\n",
    "    nll_val, accuracy_val = test_model(lr_model, val_iter)\n",
    "    print('Training performance after epoch %d: NLL: %.4f, Accuracy: %.4f'% (e+1, nll_train, accuracy_train))\n",
    "    print('Validation performance after epoch %d: NLL: %.4f, Accuracy: %.4f'% (e+1, nll_val, accuracy_val))"
   ]
  },
  {
   "cell_type": "markdown",
   "metadata": {
    "collapsed": true
   },
   "source": [
    "## Part 3: CBOW \n"
   ]
  },
  {
   "cell_type": "code",
   "execution_count": null,
   "metadata": {
    "scrolled": true
   },
   "outputs": [],
   "source": [
    "def test_cbow(model, data):\n",
    "    correct = 0.\n",
    "    num_examples = 0.\n",
    "    nll = 0.\n",
    "    for batch in data:\n",
    "        text = batch.text\n",
    "        label = batch.label\n",
    "        y_pred = model(text)\n",
    "        nll_batch = criterion(y_pred, label-1)\n",
    "        nll += nll_batch.data[0] * text.size(0) #by default NLL is averaged over each batch\n",
    "        y_pred_max, y_pred_argmax = torch.max(y_pred, 1) #prediction is the argmax\n",
    "        correct += (y_pred_argmax.data == label.data-1).sum() \n",
    "        num_examples += text.size(1) \n",
    "    return nll/num_examples, correct/num_examples\n",
    "\n",
    "class CBOW(nn.Module):\n",
    "\n",
    "    def __init__(self, vocab, embedding_dim, output_dim=2):\n",
    "        super(CBOW, self).__init__()\n",
    "        #linear classifier \n",
    "        self.embed = nn.Embedding(len(vocab), embedding_dim)\n",
    "        self.embed.weight.data.copy_(vocab.vectors)\n",
    "        self.embed.weight.requires_grad = False\n",
    "        self.linear = nn.Linear(embedding_dim, output_dim, bias=True)\n",
    "        #activation function \n",
    "        self.sigmoid = nn.Sigmoid() \n",
    "        self.logsoftmax = nn.LogSoftmax()\n",
    "\n",
    "    def forward(self, x):\n",
    "        x_embed = self.embed(x.t())\n",
    "        x_flatten = torch.sum(x_embed, dim=1)\n",
    "        out = self.linear(x_flatten)\n",
    "        out = self.sigmoid(out)\n",
    "        return self.logsoftmax(out)\n",
    "    \n",
    "cbow_model = CBOW(TEXT.vocab, embedding_dim=300)\n",
    "print(cbow_model)\n",
    "criterion = nn.NLLLoss()\n",
    "parameters = filter(lambda p: p.requires_grad, cbow_model.parameters())\n",
    "optim = torch.optim.SGD(parameters, lr = 0.5)\n",
    "num_epochs = 40\n",
    "for e in range(num_epochs):\n",
    "    for batch in train_iter:\n",
    "        optim.zero_grad()\n",
    "        #text = torch.autograd.Variable(batch_index_to_vec(batch.text))\n",
    "        text = batch.text \n",
    "        label = batch.label\n",
    "        y_pred = cbow_model(text)\n",
    "        nll_batch = criterion(y_pred, label - 1)    \n",
    "        nll_batch.backward()\n",
    "        optim.step()\n",
    "    nll_train, accuracy_train = test_cbow(cbow_model, train_iter)\n",
    "    nll_val, accuracy_val = test_cbow(cbow_model, val_iter)\n",
    "    print('Training performance after epoch %d: NLL: %.4f, Accuracy: %.4f'% (e+1, nll_train, accuracy_train))\n",
    "    print('Validation performance after epoch %d: NLL: %.4f, Accuracy: %.4f'% (e+1, nll_val, accuracy_val))\n",
    "\n",
    "torch.save(cbow_model.state_dict(), 'cbow_model')"
   ]
  },
  {
   "cell_type": "markdown",
   "metadata": {},
   "source": [
    "## Part 4 CNN "
   ]
  },
  {
   "cell_type": "code",
   "execution_count": 2,
   "metadata": {},
   "outputs": [
    {
     "name": "stdout",
     "output_type": "stream",
     "text": [
      "len(TEXT.vocab) 16284\n",
      "len(LABEL.vocab) 3\n"
     ]
    }
   ],
   "source": [
    "import torch \n",
    "import torchtext\n",
    "from torchtext.vocab import Vectors, GloVe\n",
    "import torch.nn as nn \n",
    "\n",
    "# Our input $x$\n",
    "seq_length = 56\n",
    "TEXT = torchtext.data.Field(fix_length=seq_length)\n",
    "# Our labels $y$\n",
    "LABEL = torchtext.data.Field(sequential=False)\n",
    "\n",
    "train, val, test = torchtext.datasets.SST.splits(\n",
    "    TEXT, LABEL,\n",
    "    filter_pred=lambda ex: ex.label != 'neutral')\n",
    "\n",
    "TEXT.build_vocab(train)\n",
    "LABEL.build_vocab(train)\n",
    "#this is just the set of stuff \n",
    "print('len(TEXT.vocab)', len(TEXT.vocab))\n",
    "print('len(LABEL.vocab)', len(LABEL.vocab))\n",
    "\n",
    "train_iter, val_iter, test_iter = torchtext.data.BucketIterator.splits(\n",
    "    (train, val, test), batch_size=10, device=-1, repeat=False)\n",
    "\n",
    "#Glove embeddings \n",
    "TEXT.vocab.load_vectors(vectors= GloVe(name=\"6B\", dim=\"300\"))"
   ]
  },
  {
   "cell_type": "code",
   "execution_count": 4,
   "metadata": {},
   "outputs": [
    {
     "name": "stderr",
     "output_type": "stream",
     "text": [
      "/anaconda3/lib/python3.6/site-packages/ipykernel_launcher.py:47: UserWarning: Implicit dimension choice for log_softmax has been deprecated. Change the call to include dim=X as an argument.\n",
      "/anaconda3/lib/python3.6/site-packages/ipykernel_launcher.py:55: DeprecationWarning: generator 'Iterator.__iter__' raised StopIteration\n",
      "/anaconda3/lib/python3.6/site-packages/ipykernel_launcher.py:5: DeprecationWarning: generator 'Iterator.__iter__' raised StopIteration\n",
      "  \"\"\"\n"
     ]
    },
    {
     "name": "stdout",
     "output_type": "stream",
     "text": [
      "Training performance after epoch 1: NLL: 2.8036, Accuracy: 0.8020\n",
      "Validation performance after epoch 1: NLL: 3.0779, Accuracy: 0.7580\n",
      "Training performance after epoch 2: NLL: 2.6458, Accuracy: 0.8335\n",
      "Validation performance after epoch 2: NLL: 3.0273, Accuracy: 0.7626\n",
      "Training performance after epoch 3: NLL: 2.4824, Accuracy: 0.8663\n",
      "Validation performance after epoch 3: NLL: 2.9798, Accuracy: 0.7695\n",
      "Training performance after epoch 4: NLL: 2.4320, Accuracy: 0.8776\n",
      "Validation performance after epoch 4: NLL: 2.9517, Accuracy: 0.7867\n",
      "Training performance after epoch 5: NLL: 2.4329, Accuracy: 0.8750\n",
      "Validation performance after epoch 5: NLL: 3.0909, Accuracy: 0.7580\n",
      "Training performance after epoch 6: NLL: 2.4043, Accuracy: 0.8789\n",
      "Validation performance after epoch 6: NLL: 2.9625, Accuracy: 0.7844\n",
      "Training performance after epoch 7: NLL: 2.4004, Accuracy: 0.8798\n",
      "Validation performance after epoch 7: NLL: 3.0999, Accuracy: 0.7534\n",
      "Training performance after epoch 8: NLL: 2.2098, Accuracy: 0.9185\n",
      "Validation performance after epoch 8: NLL: 2.9400, Accuracy: 0.7890\n",
      "Training performance after epoch 9: NLL: 2.1934, Accuracy: 0.9208\n",
      "Validation performance after epoch 9: NLL: 2.9023, Accuracy: 0.7890\n",
      "Training performance after epoch 10: NLL: 2.2580, Accuracy: 0.9082\n",
      "Validation performance after epoch 10: NLL: 3.0080, Accuracy: 0.7729\n",
      "Training performance after epoch 11: NLL: 2.1937, Accuracy: 0.9195\n",
      "Validation performance after epoch 11: NLL: 3.0565, Accuracy: 0.7706\n",
      "Training performance after epoch 12: NLL: 2.1720, Accuracy: 0.9273\n",
      "Validation performance after epoch 12: NLL: 2.9687, Accuracy: 0.7787\n",
      "Training performance after epoch 13: NLL: 2.1411, Accuracy: 0.9309\n",
      "Validation performance after epoch 13: NLL: 2.9887, Accuracy: 0.7775\n",
      "Training performance after epoch 14: NLL: 2.0921, Accuracy: 0.9390\n",
      "Validation performance after epoch 14: NLL: 3.0134, Accuracy: 0.7672\n",
      "Training performance after epoch 15: NLL: 2.0694, Accuracy: 0.9439\n",
      "Validation performance after epoch 15: NLL: 3.0166, Accuracy: 0.7810\n",
      "Training performance after epoch 16: NLL: 2.0617, Accuracy: 0.9449\n",
      "Validation performance after epoch 16: NLL: 3.0289, Accuracy: 0.7752\n",
      "Training performance after epoch 17: NLL: 2.0345, Accuracy: 0.9506\n",
      "Validation performance after epoch 17: NLL: 2.9919, Accuracy: 0.7798\n",
      "Training performance after epoch 18: NLL: 2.1155, Accuracy: 0.9338\n",
      "Validation performance after epoch 18: NLL: 3.1389, Accuracy: 0.7466\n",
      "Training performance after epoch 19: NLL: 2.0393, Accuracy: 0.9490\n",
      "Validation performance after epoch 19: NLL: 3.0197, Accuracy: 0.7787\n",
      "Training performance after epoch 20: NLL: 2.0668, Accuracy: 0.9451\n",
      "Validation performance after epoch 20: NLL: 3.0327, Accuracy: 0.7695\n"
     ]
    }
   ],
   "source": [
    "def test_cnn(model, data):\n",
    "    correct = 0.\n",
    "    num_examples = 0.\n",
    "    nll = 0.\n",
    "    for batch in data:\n",
    "        text = batch.text\n",
    "        label = batch.label\n",
    "        y_pred = model(text)\n",
    "        nll_batch = criterion(y_pred, label - 1)\n",
    "        nll += nll_batch.data[0] * text.size(0) #by default NLL is averaged over each batch\n",
    "        y_pred_max, y_pred_argmax = torch.max(y_pred, 1) #prediction is the argmax\n",
    "        correct += (y_pred_argmax.data == label.data - 1).sum() \n",
    "        num_examples += text.size(1)\n",
    "    return nll/num_examples, correct/num_examples\n",
    "\n",
    "class CNN(nn.Module):\n",
    "\n",
    "    def __init__(self, vocab, seq_len, embedding_dim, output_dim=2):\n",
    "        super(CNN, self).__init__()\n",
    "        self.embed = nn.Embedding(len(vocab), embedding_dim)\n",
    "        self.embed.weight.data.copy_(vocab.vectors)\n",
    "        filter_w = embedding_dim\n",
    "        filter_h = 4\n",
    "        self.conv1 = nn.Conv2d(1, 16, (filter_h, filter_w))\n",
    "        self.relu = nn.ReLU() \n",
    "        pool_h = seq_len-filter_h + 1 \n",
    "        pool_w = 1 \n",
    "        self.pooling = nn.MaxPool2d((pool_h, pool_w))\n",
    "        self.embed.weight.requires_grad = False\n",
    "        self.fc = nn.Linear(16, output_dim)\n",
    "        self.sigmoid = nn.Sigmoid() \n",
    "        self.logsoftmax = nn.LogSoftmax()\n",
    "\n",
    "    def forward(self, x):\n",
    "        # here x is batch size x length of post X embedding dim \n",
    "        #print(x.shape)\n",
    "        x_embed = self.embed(x.t())\n",
    "        #print(x_embed.shape)\n",
    "        fc = self.conv1(x_embed.unsqueeze(1))\n",
    "        #print(fc.shape)\n",
    "        relu = self.relu(fc)\n",
    "        pool = self.pooling(relu)\n",
    "        #print(pool.shape)\n",
    "        out = self.fc(pool.view(x_embed.size(0), -1))\n",
    "        out = self.sigmoid(out)\n",
    "        return self.logsoftmax(out)\n",
    "\n",
    "cnn_model = CNN(TEXT.vocab, seq_len=seq_length, embedding_dim=300)\n",
    "criterion = nn.NLLLoss()\n",
    "parameters = filter(lambda p: p.requires_grad, cnn_model.parameters())\n",
    "optim = torch.optim.SGD(parameters, lr = 0.5)\n",
    "num_epochs = 20\n",
    "for e in range(num_epochs):\n",
    "    for batch in train_iter:\n",
    "        optim.zero_grad()\n",
    "        text = batch.text\n",
    "        label = batch.label\n",
    "        y_pred = cnn_model(text)\n",
    "        nll_batch = criterion(y_pred, label-1)    \n",
    "        nll_batch.backward()\n",
    "        optim.step()\n",
    "    nll_train, accuracy_train = test_cnn(cnn_model, train_iter)\n",
    "    nll_val, accuracy_val = test_cnn(cnn_model, val_iter)\n",
    "    print('Training performance after epoch %d: NLL: %.4f, Accuracy: %.4f'% (e+1, nll_train, accuracy_train))\n",
    "    print('Validation performance after epoch %d: NLL: %.4f, Accuracy: %.4f'% (e+1, nll_val, accuracy_val))\n",
    "\n",
    "torch.save(cnn_model.state_dict(), 'cnn_model')"
   ]
  },
  {
   "cell_type": "code",
   "execution_count": null,
   "metadata": {
    "collapsed": true
   },
   "outputs": [],
   "source": []
  },
  {
   "cell_type": "code",
   "execution_count": null,
   "metadata": {
    "collapsed": true
   },
   "outputs": [],
   "source": [
    "class CNN(nn.Module):\n",
    "\n",
    "    def __init__(self, vocab, embedding_dim, output_dim=2):\n",
    "        super(CNN, self).__init__()\n",
    "        self.embed = nn.Embedding(len(vocab), embedding_dim)\n",
    "        self.embed.weight.data.copy_(vocab.vectors)\n",
    "        self.conv1 = nn.Conv2d(1, 16, 4)\n",
    "        self.relu = nn.ReLU() \n",
    "        self.pooling = nn.MaxPool2d(4)\n",
    "        self.embed.weight.requires_grad = False\n",
    "        self.fc = nn.Linear(15392, output_dim)\n",
    "        self.sigmoid = nn.Sigmoid() \n",
    "        self.logsoftmax = nn.LogSoftmax()\n",
    "\n",
    "    def forward(self, x):\n",
    "        # here x is batch size x length of post X embedding dim \n",
    "        x_embed = self.embed(x.t())\n",
    "        fc = self.conv1(x_embed.unsqueeze(1))\n",
    "        relu = self.relu(fc)\n",
    "        pool = self.pooling(relu)\n",
    "        out = self.fc(pool.view(x_embed.size(0), -1))\n",
    "        out = self.sigmoid(out)\n",
    "        return self.logsoftmax(out)"
   ]
  },
  {
   "cell_type": "code",
   "execution_count": null,
   "metadata": {
    "collapsed": true
   },
   "outputs": [],
   "source": [
    "class Attack:\n",
    "    def __init__(self, model):\n",
    "        self.net = model\n",
    "        self.optimizer = optim.SGD(params=[self.net.r], lr=0.008)\n",
    "\n",
    "    def attack(self, x, y_true, y_target, regularization=None):\n",
    "        _x = x\n",
    "        _y_target = Variable(torch.LongTensor([y_target]))\n",
    "\n",
    "        # Reset value of r word perturbations\n",
    "        self.net.r.data = torch.zeros(1,56*300) \n",
    "\n",
    "        y_pred =  np.argmax(self.net(_x).data.numpy())\n",
    "        incorrect_classify = False\n",
    "        if y_true != y_pred:\n",
    "            incorrect_classify = True\n",
    "\n",
    "        # Optimization Loop \n",
    "        for iteration in range(1000):\n",
    "\n",
    "            self.optimizer.zero_grad() \n",
    "            outputs = self.net(_x)\n",
    "            xent_loss = self.softmaxwithxent(outputs, _y_target) \n",
    "            adv_loss = xent_loss + torch.mean(torch.abs(self.net.r))\n",
    "            adv_loss.backward() \n",
    "            self.optimizer.step() \n",
    "\n",
    "            # keep optimizing Until classif_op == _y_target\n",
    "            y_pred_adversarial = np.argmax(self.net(_x).data.numpy())\n",
    "            if y_pred_adversarial == y_target:\n",
    "                break \n",
    "\n",
    "        if iteration == 999:\n",
    "            print \"Warning: optimization loop ran for 1000 iterations. The result may not be correct\"\n",
    "\n",
    "        return self.net.r.data.numpy(), y_pred, y_pred_adversarial "
   ]
  },
  {
   "cell_type": "code",
   "execution_count": null,
   "metadata": {
    "collapsed": true
   },
   "outputs": [],
   "source": [
    "net = CNN(TEXT.vocab, embedding_dim=300)\n",
    "print(net)\n",
    "SoftmaxWithXent = nn.CrossEntropyLoss()\n",
    "\n",
    "# OPTIMIZE FOR \"r\" \n",
    "optimizer = optim.SGD(params=[net.r], lr=0.008)\n",
    "\n",
    "\n",
    "for example in test:\n",
    "    _x = example.text \n",
    "    _y_target = (example.label - 1) ^ (example.label - 1)\n",
    "    \n",
    "    # Reset value of r \n",
    "    net.r.data = torch.zeros(1, 56) \n",
    "\n",
    "    # Classification before Adv \n",
    "    y_pred =  np.argmax(net(Variable(_x)).data.numpy())\n",
    "    y_preds.append(y_pred)\n",
    "    \n",
    "    print \"Y_TRUE: {} | Y_PRED: {}\".format(_y_true, y_pred)\n",
    "    if _y_true != y_pred:\n",
    "        print \"WARNING: IMAGE WAS NOT CLASSIFIED CORRECTLY\"\n",
    "\n",
    "    # Optimization Loop \n",
    "    tqd_loop = trange(1000)\n",
    "    for iteration in tqd_loop:\n",
    "\n",
    "        x,y = _x, _y_target\n",
    "        optimizer.zero_grad() \n",
    "        outputs = net(x)\n",
    "        xent_loss = SoftmaxWithXent(outputs, y) \n",
    "        adv_loss  = xent_loss + torch.mean(torch.pow(net.r,2))\n",
    "\n",
    "        adv_loss.backward() \n",
    "        # xent_loss.backward()\n",
    "        optimizer.step() \n",
    "\n",
    "        # print stats \n",
    "        classif_op = np.argmax(net(Variable(_x)).data.numpy())\n",
    "        tqd_loop.set_description(\"xent Loss: {} classif: {}\".format(xent_loss.data.numpy(), classif_op))\n",
    "\n",
    "        # keep optimizing Until classif_op == _y_target\n",
    "        if classif_op == _y_target.numpy()[0]:\n",
    "            tqd_loop.close()\n",
    "            break \n",
    "\n",
    "    # save adv_image and noise to list \n",
    "    noise.append(net.r.data.numpy())\n",
    "    print \"After Optimization Image is classified as: \"\n",
    "    print np.argmax(net(Variable(_x)).data.numpy())"
   ]
  },
  {
   "cell_type": "markdown",
   "metadata": {},
   "source": [
    "## Part 6: Test Code "
   ]
  },
  {
   "cell_type": "code",
   "execution_count": 6,
   "metadata": {},
   "outputs": [
    {
     "name": "stderr",
     "output_type": "stream",
     "text": [
      "/anaconda3/lib/python3.6/site-packages/ipykernel_launcher.py:47: UserWarning: Implicit dimension choice for log_softmax has been deprecated. Change the call to include dim=X as an argument.\n",
      "/anaconda3/lib/python3.6/site-packages/ipykernel_launcher.py:6: DeprecationWarning: generator 'Iterator.__iter__' raised StopIteration\n",
      "  \n"
     ]
    }
   ],
   "source": [
    "def test(model, test_iter):\n",
    "    \"All models should be able to be run with following command.\"\n",
    "    upload = []\n",
    "    # Update: for kaggle the bucket iterator needs to have batch_size 10\n",
    "    #test_iter = torchtext.data.BucketIterator(test, train=False, batch_size=10)\n",
    "    for batch in test_iter:\n",
    "        # Your prediction data here (don't cheat!)\n",
    "        probs = model(batch.text)\n",
    "        _, argmax = probs.max(1)\n",
    "        upload += list(argmax.data)\n",
    "    with open(\"predictions.txt\", \"w\") as f:\n",
    "        f.write('Id,Cat\\n')\n",
    "        for i in range(len(upload)):\n",
    "            f.write(str(i) + \",\" + str(upload[i] + 1) + \"\\n\")\n",
    "test(cnn_model, test_iter)"
   ]
  },
  {
   "cell_type": "markdown",
   "metadata": {},
   "source": [
    "In addition, you should put up a (short) write-up following the template provided in the repository:  https://github.com/harvard-ml-courses/cs287-s18/blob/master/template/"
   ]
  }
 ],
 "metadata": {
  "kernelspec": {
   "display_name": "Python 3",
   "language": "python",
   "name": "python3"
  },
  "language_info": {
   "codemirror_mode": {
    "name": "ipython",
    "version": 3
   },
   "file_extension": ".py",
   "mimetype": "text/x-python",
   "name": "python",
   "nbconvert_exporter": "python",
   "pygments_lexer": "ipython3",
   "version": "3.6.3"
  }
 },
 "nbformat": 4,
 "nbformat_minor": 2
}
